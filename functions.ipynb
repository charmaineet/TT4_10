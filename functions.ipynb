{
 "cells": [
  {
   "cell_type": "code",
   "execution_count": 19,
   "metadata": {},
   "outputs": [
    {
     "name": "stdout",
     "output_type": "stream",
     "text": [
      "(1, 'Farrah Dobbie', '3688961901', '49862 Kingsford Junction', Decimal('69687.54'))\n",
      "(2, 'Malcolm Orbell', '8867727382', '385 Lawn Terrace', Decimal('55592.51'))\n",
      "(3, 'Filippa Bucknill', '6677805329', '1898 Michigan Road', Decimal('53826.01'))\n",
      "(4, 'Dido Vanezis', '2887691797', '57689 Myrtle Park', Decimal('30581.83'))\n",
      "(5, 'Annelise Aspland', '2096293966', '3922 Cherokee Place', Decimal('87026.91'))\n",
      "(6, 'Herminia Newby', '8111478402', '19 Chive Center', Decimal('5414.47'))\n",
      "(7, 'Lind Hanley', '7504959822', '7534 Village Green Center', Decimal('25921.26'))\n",
      "(8, 'Mimi Gilhooley', '6594140488', '16033 Pond Avenue', Decimal('62834.94'))\n",
      "(9, 'Ileana Parkes', '1281389203', '095 Warner Hill', Decimal('76939.31'))\n",
      "(10, 'Larissa Yeldham', '2812360584', '220 Shopko Parkway', Decimal('15790.59'))\n"
     ]
    }
   ],
   "source": [
    "import mysql.connector\n",
    "from mysql.connector import errorcode\n",
    "\n",
    "try:\n",
    "    conn = mysql.connector.connect(user='admin',password='admin123',host = 'dbshack-loan-database.cywxthrilvw1.ap-southeast-1.rds.amazonaws.com',database='loan_management')\n",
    "except mysql.connector.Error as err:\n",
    "    if err.errno == errorcode.ER_ACCESS_DENIED_ERROR:\n",
    "        print(\"Something is wrong with your user name or password\")\n",
    "    elif err.errno == errorcode.ER_BAD_DB_ERROR:\n",
    "        print(\"Database does not exist\")\n",
    "    else:\n",
    "        print(err)\n",
    "cursor = conn.cursor()\n",
    "query = (\"SELECT * FROM customer\")\n",
    "cursor.execute(query)\n",
    "for data in cursor:\n",
    "    print(data)"
   ]
  },
  {
   "cell_type": "code",
   "execution_count": 20,
   "metadata": {},
   "outputs": [
    {
     "name": "stdout",
     "output_type": "stream",
     "text": [
      "2.00\n"
     ]
    }
   ],
   "source": [
    "import mysql.connector\n",
    "from mysql.connector import errorcode\n",
    "\n",
    "def getBalance(id):\n",
    "    try:\n",
    "        conn = mysql.connector.connect(user='admin',password='admin123',host = 'dbshack-loan-database.cywxthrilvw1.ap-southeast-1.rds.amazonaws.com',database='loan_management')\n",
    "    except mysql.connector.Error as err:\n",
    "        if err.errno == errorcode.ER_ACCESS_DENIED_ERROR:\n",
    "            print(\"Something is wrong with your user name or password\")\n",
    "        elif err.errno == errorcode.ER_BAD_DB_ERROR:\n",
    "            print(\"Database does not exist\")\n",
    "        else:\n",
    "            print(err)\n",
    "    query = (\"SELECT customer_name,balance FROM customer WHERE CustomerId = %s\")\n",
    "    cursor = conn.cursor()\n",
    "    cursor.execute(query,(id,))\n",
    "    for (name,balance) in cursor:\n",
    "        return balance\n",
    "               \n",
    "print(getBalance(\"1\"))"
   ]
  },
  {
   "cell_type": "code",
   "execution_count": 21,
   "metadata": {},
   "outputs": [
    {
     "name": "stdout",
     "output_type": "stream",
     "text": [
      "276443.40\n"
     ]
    }
   ],
   "source": [
    "import mysql.connector\n",
    "from mysql.connector import errorcode\n",
    "\n",
    "def getLoanAmtSum(id):\n",
    "    try:\n",
    "        conn = mysql.connector.connect(user='admin',password='admin123',host = 'dbshack-loan-database.cywxthrilvw1.ap-southeast-1.rds.amazonaws.com',database='loan_management')\n",
    "    except mysql.connector.Error as err:\n",
    "        if err.errno == errorcode.ER_ACCESS_DENIED_ERROR:\n",
    "            print(\"Something is wrong with your user name or password\")\n",
    "        elif err.errno == errorcode.ER_BAD_DB_ERROR:\n",
    "            print(\"Database does not exist\")\n",
    "        else:\n",
    "            print(err)\n",
    "    query = (\"SELECT customer_name,SUM(loan_amount) FROM customer INNER JOIN customerloan ON customer.CustomerId=customerloan.CustomerId INNER JOIN loan on customerloan.LoanId = loan.LoanId WHERE customer.CustomerId = %s\")\n",
    "    cursor = conn.cursor()\n",
    "    cursor.execute(query,(id,))\n",
    "    for (name,loan_amount) in cursor:\n",
    "        return loan_amount\n",
    "               \n",
    "print(getLoanAmtSum(\"8\"))"
   ]
  }
 ],
 "metadata": {
  "interpreter": {
   "hash": "31b24493780f79f82f1f136063a3ec6d57a2a919026de5889a22e0abf560706c"
  },
  "kernelspec": {
   "display_name": "Python 3.9.2 64-bit",
   "language": "python",
   "name": "python3"
  },
  "language_info": {
   "codemirror_mode": {
    "name": "ipython",
    "version": 3
   },
   "file_extension": ".py",
   "mimetype": "text/x-python",
   "name": "python",
   "nbconvert_exporter": "python",
   "pygments_lexer": "ipython3",
   "version": "3.9.2"
  },
  "orig_nbformat": 4
 },
 "nbformat": 4,
 "nbformat_minor": 2
}
